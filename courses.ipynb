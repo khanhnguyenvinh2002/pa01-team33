{
 "cells": [
  {
   "cell_type": "markdown",
   "metadata": {},
   "source": [
    "# Courses Demo\n",
    "This Jupyter notebook is for exploring the data set courses20-21.json\n",
    "which consists of all Brandeis courses in the 20-21 academic year (Fall20, Spr21, Sum21) \n",
    "which had at least 1 student enrolled.\n",
    "\n",
    "First we need to read the json file into a list of Python dictionaries"
   ]
  },
  {
   "cell_type": "code",
   "execution_count": 1,
   "metadata": {},
   "outputs": [],
   "source": [
    "import json\n",
    "import pandas as pd\n",
    "import numpy as np\n",
    "from collections import defaultdict"
   ]
  },
  {
   "cell_type": "code",
   "execution_count": 2,
   "metadata": {},
   "outputs": [],
   "source": [
    "with open(\"courses20-21.json\",\"r\",encoding='utf-8') as jsonfile:\n",
    "    courses = json.load(jsonfile)"
   ]
  },
  {
   "cell_type": "markdown",
   "metadata": {},
   "source": [
    "## Structure of a course\n",
    "Next we look at the fields of each course dictionary and their values"
   ]
  },
  {
   "cell_type": "code",
   "execution_count": 3,
   "metadata": {},
   "outputs": [
    {
     "name": "stdout",
     "output_type": "stream",
     "text": [
      "there are 7813 courses in the dataset\n",
      "here is the data for course 1246\n"
     ]
    },
    {
     "data": {
      "text/plain": [
       "{'limit': 28,\n",
       " 'times': [{'start': 1080, 'end': 1170, 'days': ['w', 'm']}],\n",
       " 'enrolled': 4,\n",
       " 'details': 'Instruction for this course will be offered remotely. Meeting times for this course are listed in the schedule of classes (in ET).',\n",
       " 'type': 'section',\n",
       " 'status_text': 'Open',\n",
       " 'section': '1',\n",
       " 'waiting': 0,\n",
       " 'instructor': ['An', 'Huang', 'anhuang@brandeis.edu'],\n",
       " 'coinstructors': [],\n",
       " 'code': ['MATH', '223A'],\n",
       " 'subject': 'MATH',\n",
       " 'coursenum': '223A',\n",
       " 'name': 'Lie Algebras: Representation Theory',\n",
       " 'independent_study': False,\n",
       " 'term': '1203',\n",
       " 'description': \"Theorems of Engel and Lie. Semisimple Lie algebras, Cartan's criterion. Universal enveloping algebras, PBW theorem, Serre's construction. Representation theory. Other topics as time permits. Usually offered every second year.\\nAn Huang\"}"
      ]
     },
     "execution_count": 3,
     "metadata": {},
     "output_type": "execute_result"
    }
   ],
   "source": [
    "print('there are',len(courses),'courses in the dataset')\n",
    "print('here is the data for course 1246')\n",
    "courses[1246]"
   ]
  },
  {
   "cell_type": "markdown",
   "metadata": {},
   "source": [
    "## Cleaning the data\n",
    "If we want to sort courses by instructor or by code, we need to replace the lists with tuples (which are immutable lists)"
   ]
  },
  {
   "cell_type": "code",
   "execution_count": 4,
   "metadata": {},
   "outputs": [],
   "source": [
    "for course in courses:\n",
    "        course['instructor'] = tuple(course['instructor'])\n",
    "        course['coinstructors'] = tuple([tuple(f) for f in course['coinstructors']])\n",
    "        course['code']= tuple(course['code'])"
   ]
  },
  {
   "cell_type": "code",
   "execution_count": 5,
   "metadata": {},
   "outputs": [
    {
     "name": "stdout",
     "output_type": "stream",
     "text": [
      "notice that the instructor and code are tuples now\n"
     ]
    },
    {
     "data": {
      "text/plain": [
       "{'limit': 28,\n",
       " 'times': [{'start': 1080, 'end': 1170, 'days': ['w', 'm']}],\n",
       " 'enrolled': 4,\n",
       " 'details': 'Instruction for this course will be offered remotely. Meeting times for this course are listed in the schedule of classes (in ET).',\n",
       " 'type': 'section',\n",
       " 'status_text': 'Open',\n",
       " 'section': '1',\n",
       " 'waiting': 0,\n",
       " 'instructor': ('An', 'Huang', 'anhuang@brandeis.edu'),\n",
       " 'coinstructors': (),\n",
       " 'code': ('MATH', '223A'),\n",
       " 'subject': 'MATH',\n",
       " 'coursenum': '223A',\n",
       " 'name': 'Lie Algebras: Representation Theory',\n",
       " 'independent_study': False,\n",
       " 'term': '1203',\n",
       " 'description': \"Theorems of Engel and Lie. Semisimple Lie algebras, Cartan's criterion. Universal enveloping algebras, PBW theorem, Serre's construction. Representation theory. Other topics as time permits. Usually offered every second year.\\nAn Huang\"}"
      ]
     },
     "execution_count": 5,
     "metadata": {},
     "output_type": "execute_result"
    }
   ],
   "source": [
    "print('notice that the instructor and code are tuples now')\n",
    "courses[1246]"
   ]
  },
  {
   "cell_type": "markdown",
   "metadata": {},
   "source": [
    "# Exploring the data set\n",
    "Now we will show how to use straight python to explore the data set and answer some interesting questions. Next week we will start learning Pandas/Numpy which are packages that make it easier to explore large dataset efficiently.\n",
    "\n",
    "Here are some questions we can try to asnwer:\n",
    "* what are all of the subjects of courses (e.g. COSI, MATH, JAPN, PHIL, ...)\n",
    "* which terms are represented?\n",
    "* how many instructors taught at Brandeis last year?\n",
    "* what were the five largest course sections?\n",
    "* what were the five largest courses (where we combine sections)?\n",
    "* which are the five largest subjects measured by number of courses offered?\n",
    "* which are the five largest courses measured by number of students taught?\n",
    "* which course had the most sections taught in 20-21?\n",
    "* who are the top five faculty in terms of number of students taught?\n",
    "* etc."
   ]
  },
  {
   "cell_type": "markdown",
   "metadata": {},
   "source": [
    "### * How many instructors taught at Brandeis last year?"
   ]
  },
  {
   "cell_type": "code",
   "execution_count": 7,
   "metadata": {},
   "outputs": [
    {
     "data": {
      "text/plain": [
       "27"
      ]
     },
     "execution_count": 7,
     "metadata": {},
     "output_type": "execute_result"
    }
   ],
   "source": [
    "instructors = len({c['instructor'] for c in courses if c['subject'] == 'COSI' })\n",
    "instructors"
   ]
  },
  {
   "cell_type": "markdown",
   "metadata": {},
   "source": [
    "### * Which terms are represented?"
   ]
  },
  {
   "cell_type": "code",
   "execution_count": 8,
   "metadata": {},
   "outputs": [
    {
     "data": {
      "text/plain": [
       "{'1203', '1211', '1212'}"
      ]
     },
     "execution_count": 8,
     "metadata": {},
     "output_type": "execute_result"
    }
   ],
   "source": [
    "terms = {c['term'] for c in courses }\n",
    "terms"
   ]
  },
  {
   "cell_type": "markdown",
   "metadata": {},
   "source": [
    "### * What is the total number of students taking COSI courses last year?"
   ]
  },
  {
   "cell_type": "code",
   "execution_count": 9,
   "metadata": {},
   "outputs": [
    {
     "data": {
      "text/plain": [
       "2223"
      ]
     },
     "execution_count": 9,
     "metadata": {},
     "output_type": "execute_result"
    }
   ],
   "source": [
    "total = 0\n",
    "for c in courses:\n",
    "    if c['subject'] == 'COSI':\n",
    "        total += c['enrolled']\n",
    "total"
   ]
  },
  {
   "cell_type": "markdown",
   "metadata": {},
   "source": [
    "### * What was the median size of a COSI course last year (counting only those courses with at least 10 students)"
   ]
  },
  {
   "cell_type": "code",
   "execution_count": 10,
   "metadata": {
    "scrolled": true
   },
   "outputs": [
    {
     "data": {
      "text/plain": [
       "2.0"
      ]
     },
     "execution_count": 10,
     "metadata": {},
     "output_type": "execute_result"
    }
   ],
   "source": [
    "median = []\n",
    "for c in courses:\n",
    "    if c['subject'] == 'COSI' and c['enrolled'] >= 1:\n",
    "        median.append(c['enrolled'])\n",
    "np.median(median)"
   ]
  },
  {
   "cell_type": "markdown",
   "metadata": {},
   "source": [
    "### * Create a list of tuples (E,S) where S is a subject and E is the number of students enrolled in courses in that subject, sort it and print the top 10. This shows the top 10 subjects in terms of number of students taught."
   ]
  },
  {
   "cell_type": "code",
   "execution_count": 11,
   "metadata": {
    "scrolled": false
   },
   "outputs": [
    {
     "data": {
      "text/plain": [
       "[('HS', 5318),\n",
       " ('BIOL', 3085),\n",
       " ('BUS', 2766),\n",
       " ('HWL', 2734),\n",
       " ('CHEM', 2322),\n",
       " ('ECON', 2315),\n",
       " ('COSI', 2223),\n",
       " ('MATH', 1785),\n",
       " ('PSYC', 1704),\n",
       " ('ANTH', 1144)]"
      ]
     },
     "execution_count": 11,
     "metadata": {},
     "output_type": "execute_result"
    }
   ],
   "source": [
    "student_list = {}\n",
    "for c in courses:\n",
    "    if c['subject'] in student_list:\n",
    "        student_list[c['subject']] += c['enrolled']\n",
    "    else:\n",
    "        student_list[c['subject']] = c['enrolled']\n",
    "students_courses = []\n",
    "for subject, num in student_list.items():\n",
    "    students_courses.append((subject, num))\n",
    "students_courses.sort(key=lambda x: x[1], reverse=True)\n",
    "students_courses[0:10]"
   ]
  },
  {
   "cell_type": "markdown",
   "metadata": {},
   "source": [
    "### * Do the same as in (d) but print the top 10 subjects in terms of number of courses offered"
   ]
  },
  {
   "cell_type": "code",
   "execution_count": 12,
   "metadata": {},
   "outputs": [
    {
     "data": {
      "text/plain": [
       "[('HS', 170),\n",
       " ('ENG', 67),\n",
       " ('BIOL', 62),\n",
       " ('BUS', 58),\n",
       " ('ANTH', 56),\n",
       " ('MUS', 56),\n",
       " ('PSYC', 55),\n",
       " ('MATH', 53),\n",
       " ('ECON', 49),\n",
       " ('FA', 49)]"
      ]
     },
     "execution_count": 12,
     "metadata": {},
     "output_type": "execute_result"
    }
   ],
   "source": [
    "subjects = defaultdict(set)\n",
    "for c in courses:\n",
    "    subjects[c['subject']].add(c['name'])\n",
    "\n",
    "subjects_course_count = []\n",
    "for subject, course in subjects.items():\n",
    "    subjects_course_count.append((subject, len(course)))\n",
    "subjects_course_count.sort(key=lambda x: x[1], reverse=True)\n",
    "subjects_course_count[0:10]"
   ]
  },
  {
   "cell_type": "markdown",
   "metadata": {},
   "source": [
    "### * Do the same as (d) but print the top 10 subjects in terms of number of faculty teaching courses in that subject"
   ]
  },
  {
   "cell_type": "code",
   "execution_count": 13,
   "metadata": {},
   "outputs": [
    {
     "data": {
      "text/plain": [
       "[('HS', 84),\n",
       " ('BIOL', 67),\n",
       " ('ECON', 52),\n",
       " ('BCHM', 49),\n",
       " ('HIST', 47),\n",
       " ('BUS', 46),\n",
       " ('BCBP', 46),\n",
       " ('HWL', 42),\n",
       " ('MATH', 37),\n",
       " ('NEJS', 37)]"
      ]
     },
     "execution_count": 13,
     "metadata": {},
     "output_type": "execute_result"
    }
   ],
   "source": [
    "faculty = defaultdict(set)\n",
    "for c in courses:\n",
    "    faculty[c['subject']].add(c['instructor'][2])\n",
    "\n",
    "faculty_count = []\n",
    "for subject, instructor in faculty.items():\n",
    "    faculty_count.append((subject, (len(instructor))))\n",
    "faculty_count.sort(key=lambda x: x[1], reverse=True)\n",
    "faculty_count[0:10]\n"
   ]
  },
  {
   "cell_type": "markdown",
   "metadata": {},
   "source": [
    "### * What were the five largest courses (where we combine sections)?"
   ]
  },
  {
   "cell_type": "code",
   "execution_count": 14,
   "metadata": {},
   "outputs": [
    {
     "data": {
      "text/plain": [
       "[(('HWL', '1-PRE'), 784),\n",
       " (('CHEM', '25A'), 186),\n",
       " (('BIOL', '42A'), 186),\n",
       " (('BIOL', '15B'), 181),\n",
       " (('CHEM', '25B'), 180)]"
      ]
     },
     "execution_count": 14,
     "metadata": {},
     "output_type": "execute_result"
    }
   ],
   "source": [
    "combined_section_courses = {}\n",
    "for c in courses:\n",
    "    if (c['subject'], c['coursenum']) in combined_section_courses:\n",
    "        combined_section_courses[(c['subject'], c['coursenum'])] = max(c['enrolled'], combined_section_courses[(c['subject'], c['coursenum'])]) \n",
    "    else:\n",
    "        combined_section_courses[(c['subject'], c['coursenum'])] = c['enrolled']\n",
    "combined_section_number = []\n",
    "for course, num in combined_section_courses.items():\n",
    "    combined_section_number.append((course, num))\n",
    "combined_section_number.sort(key=lambda x: x[1], reverse=True)\n",
    "combined_section_number[0:5]"
   ]
  },
  {
   "cell_type": "markdown",
   "metadata": {},
   "source": [
    "### * List the top 20 faculty in terms of number of students they taught"
   ]
  },
  {
   "cell_type": "code",
   "execution_count": 15,
   "metadata": {},
   "outputs": [
    {
     "data": {
      "text/plain": [
       "[(('Leah', 'Berkenwald'), 926),\n",
       " (('Kene Nathan', 'Piasta'), 583),\n",
       " (('Stephanie', 'Murray'), 515),\n",
       " (('Milos', 'Dolnik'), 489),\n",
       " (('Maria', 'de Boef Miara'), 450),\n",
       " (('Bryan', 'Ingoglia'), 439),\n",
       " (('Rachel V.E.', 'Woodruff'), 422),\n",
       " (('Timothy J', 'Hickey'), 411),\n",
       " (('Daniel', 'Breen'), 375),\n",
       " (('Melissa', 'Kosinski-Collins'), 365),\n",
       " (('Claudia', 'Novack'), 355),\n",
       " (('Antonella', 'DiLillo'), 342),\n",
       " (('Jon', 'Chilingerian'), 330),\n",
       " (('Ahmad', 'Namini'), 327),\n",
       " (('Iraklis', 'Tsekourakis'), 316),\n",
       " (('Geoffrey', 'Clarke'), 315),\n",
       " (('Peter', 'Mistark'), 277),\n",
       " (('Brenda', 'Anderson'), 275),\n",
       " (('Colleen', 'Hitchcock'), 261),\n",
       " (('Scott A.', 'Redenius'), 259)]"
      ]
     },
     "execution_count": 15,
     "metadata": {},
     "output_type": "execute_result"
    }
   ],
   "source": [
    "faculty_students = {}\n",
    "for c in courses:\n",
    "    if c['instructor'][0:2] in faculty_students:\n",
    "        faculty_students[c['instructor'][0:2]] += c['enrolled']\n",
    "    else:\n",
    "        faculty_students[c['instructor'][0:2]] = c['enrolled']\n",
    "students_faculty_count = []\n",
    "for faculty, num in faculty_students.items():\n",
    "    students_faculty_count.append((faculty, num))\n",
    "students_faculty_count.sort(key=lambda x: x[1], reverse=True)\n",
    "students_faculty_count[0:20]"
   ]
  },
  {
   "cell_type": "markdown",
   "metadata": {},
   "source": [
    "### * list the top 20 courses in terms of number of students taking that course (where you combine different sections and semesters, i.e. just use the subject and course number)"
   ]
  },
  {
   "cell_type": "code",
   "execution_count": 16,
   "metadata": {},
   "outputs": [
    {
     "data": {
      "text/plain": [
       "[(('HWL', '1-PRE'), 784),\n",
       " (('CHEM', '25A'), 186),\n",
       " (('BIOL', '42A'), 186),\n",
       " (('BIOL', '15B'), 181),\n",
       " (('CHEM', '25B'), 180),\n",
       " (('HS', '104B'), 175),\n",
       " (('PSYC', '10A'), 170),\n",
       " (('COSI', '164A'), 166),\n",
       " (('COSI', '10A'), 150),\n",
       " (('LGLS', '10A'), 145),\n",
       " (('ENVS', '2A'), 141),\n",
       " (('BIOL', '16A'), 136),\n",
       " (('NPSY', '199A'), 135),\n",
       " (('PSYC', '34B'), 119),\n",
       " (('PHYS', '10A'), 109),\n",
       " (('PHYS', '10B'), 107),\n",
       " (('BIOL', '350A'), 105),\n",
       " (('PSYC', '51A'), 105),\n",
       " (('ECON', '10A'), 104),\n",
       " (('SOC', '1A'), 103)]"
      ]
     },
     "execution_count": 16,
     "metadata": {},
     "output_type": "execute_result"
    }
   ],
   "source": [
    "courses_enrolled = {}\n",
    "for c in courses:\n",
    "    if (c['subject'], c['coursenum']) in courses_enrolled:\n",
    "        courses_enrolled[(c['subject'], c['coursenum'])] = max(c['enrolled'],courses_enrolled[(c['subject'], c['coursenum'])])\n",
    "    else:\n",
    "        courses_enrolled[(c['subject'], c['coursenum'])] = c['enrolled']\n",
    "arr_courses_enrolled = []\n",
    "for course, num in courses_enrolled.items():\n",
    "    arr_courses_enrolled.append((course, num))\n",
    "arr_courses_enrolled.sort(key=lambda x: x[1], reverse=True)\n",
    "arr_courses_enrolled[0:20]"
   ]
  },
  {
   "cell_type": "markdown",
   "metadata": {},
   "source": [
    "### * What are all of the subjects of courses (e.g. COSI, MATH, JAPN, PHIL, ...)"
   ]
  },
  {
   "cell_type": "code",
   "execution_count": null,
   "metadata": {},
   "outputs": [],
   "source": [
    "subjects = {c['subject'] for c in courses }\n",
    "print(subjects)"
   ]
  },
  {
   "cell_type": "markdown",
   "metadata": {},
   "source": [
    "### * Which terms are represented?"
   ]
  },
  {
   "cell_type": "code",
   "execution_count": null,
   "metadata": {},
   "outputs": [],
   "source": [
    "terms = {c['term'] for c in courses }\n",
    "terms"
   ]
  }
 ],
 "metadata": {
  "kernelspec": {
   "display_name": "Python 3",
   "language": "python",
   "name": "python3"
  },
  "language_info": {
   "codemirror_mode": {
    "name": "ipython",
    "version": 3
   },
   "file_extension": ".py",
   "mimetype": "text/x-python",
   "name": "python",
   "nbconvert_exporter": "python",
   "pygments_lexer": "ipython3",
   "version": "3.8.8"
  }
 },
 "nbformat": 4,
 "nbformat_minor": 4
}
